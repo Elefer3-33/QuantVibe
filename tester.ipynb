{
 "cells": [
  {
   "cell_type": "code",
   "execution_count": 9,
   "metadata": {},
   "outputs": [
    {
     "name": "stderr",
     "output_type": "stream",
     "text": [
      "[*********************100%***********************]  1 of 1 completed\n"
     ]
    }
   ],
   "source": [
    "\n",
    "\n",
    "import yfinance as yf\n",
    "import pandas as pd\n",
    "import talib\n",
    "\n",
    "import finta as TA\n",
    "import yfinance as yf # type: ignore\n",
    "import pandas as pd # type: ignore\n",
    "\n",
    "# Download historical data\n",
    "def download_data(ticker=\"AAPL\", end=\"2024-12-31\"):\n",
    "    df = yf.download(ticker, end=end, auto_adjust=False)\n",
    "    df['MA50'] = df['Close'].rolling(window=50).mean()\n",
    "    df['MA200'] = df['Close'].rolling(window=200).mean()\n",
    "    df['RSI'] = talib.RSI(df['Close'].values.flatten(), timeperiod=14)\n",
    "    df ['typical_price'] = (df['High'] + df['Low'] + df['Close']) / 3\n",
    "    upper, middle, lower = talib.BBANDS(df['typical_price'], timeperiod=20, nbdevup=2, nbdevdn=2, matype=0)\n",
    "    df['BB_upper'] = upper\n",
    "    df['BB_middle'] = middle\n",
    "    df['BB_lower'] = lower\n",
    "    df.to_csv(f\"./{ticker}_historical_data.csv\")\n",
    "    return df\n",
    "\n",
    "df = download_data()"
   ]
  }
 ],
 "metadata": {
  "kernelspec": {
   "display_name": "Python 3",
   "language": "python",
   "name": "python3"
  },
  "language_info": {
   "codemirror_mode": {
    "name": "ipython",
    "version": 3
   },
   "file_extension": ".py",
   "mimetype": "text/x-python",
   "name": "python",
   "nbconvert_exporter": "python",
   "pygments_lexer": "ipython3",
   "version": "3.9.6"
  }
 },
 "nbformat": 4,
 "nbformat_minor": 2
}
